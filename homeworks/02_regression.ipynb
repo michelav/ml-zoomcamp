{
 "cells": [
  {
   "cell_type": "code",
   "execution_count": 1,
   "id": "6c843802-1acd-490a-8fff-027b4e121b45",
   "metadata": {},
   "outputs": [],
   "source": [
    "import numpy as np\n",
    "import pandas as pd\n",
    "import seaborn as sns\n",
    "from matplotlib import pyplot as plt\n",
    "%matplotlib inline"
   ]
  },
  {
   "cell_type": "code",
   "execution_count": 2,
   "id": "b8e5b160-0528-4334-8c56-1c60e779ff0d",
   "metadata": {},
   "outputs": [
    {
     "data": {
      "text/html": [
       "<div>\n",
       "<style scoped>\n",
       "    .dataframe tbody tr th:only-of-type {\n",
       "        vertical-align: middle;\n",
       "    }\n",
       "\n",
       "    .dataframe tbody tr th {\n",
       "        vertical-align: top;\n",
       "    }\n",
       "\n",
       "    .dataframe thead th {\n",
       "        text-align: right;\n",
       "    }\n",
       "</style>\n",
       "<table border=\"1\" class=\"dataframe\">\n",
       "  <thead>\n",
       "    <tr style=\"text-align: right;\">\n",
       "      <th></th>\n",
       "      <th>longitude</th>\n",
       "      <th>latitude</th>\n",
       "      <th>housing_median_age</th>\n",
       "      <th>total_rooms</th>\n",
       "      <th>total_bedrooms</th>\n",
       "      <th>population</th>\n",
       "      <th>households</th>\n",
       "      <th>median_income</th>\n",
       "      <th>median_house_value</th>\n",
       "      <th>ocean_proximity</th>\n",
       "    </tr>\n",
       "  </thead>\n",
       "  <tbody>\n",
       "    <tr>\n",
       "      <th>0</th>\n",
       "      <td>-122.23</td>\n",
       "      <td>37.88</td>\n",
       "      <td>41.0</td>\n",
       "      <td>880.0</td>\n",
       "      <td>129.0</td>\n",
       "      <td>322.0</td>\n",
       "      <td>126.0</td>\n",
       "      <td>8.3252</td>\n",
       "      <td>452600.0</td>\n",
       "      <td>NEAR BAY</td>\n",
       "    </tr>\n",
       "    <tr>\n",
       "      <th>1</th>\n",
       "      <td>-122.22</td>\n",
       "      <td>37.86</td>\n",
       "      <td>21.0</td>\n",
       "      <td>7099.0</td>\n",
       "      <td>1106.0</td>\n",
       "      <td>2401.0</td>\n",
       "      <td>1138.0</td>\n",
       "      <td>8.3014</td>\n",
       "      <td>358500.0</td>\n",
       "      <td>NEAR BAY</td>\n",
       "    </tr>\n",
       "    <tr>\n",
       "      <th>2</th>\n",
       "      <td>-122.24</td>\n",
       "      <td>37.85</td>\n",
       "      <td>52.0</td>\n",
       "      <td>1467.0</td>\n",
       "      <td>190.0</td>\n",
       "      <td>496.0</td>\n",
       "      <td>177.0</td>\n",
       "      <td>7.2574</td>\n",
       "      <td>352100.0</td>\n",
       "      <td>NEAR BAY</td>\n",
       "    </tr>\n",
       "    <tr>\n",
       "      <th>3</th>\n",
       "      <td>-122.25</td>\n",
       "      <td>37.85</td>\n",
       "      <td>52.0</td>\n",
       "      <td>1274.0</td>\n",
       "      <td>235.0</td>\n",
       "      <td>558.0</td>\n",
       "      <td>219.0</td>\n",
       "      <td>5.6431</td>\n",
       "      <td>341300.0</td>\n",
       "      <td>NEAR BAY</td>\n",
       "    </tr>\n",
       "    <tr>\n",
       "      <th>4</th>\n",
       "      <td>-122.25</td>\n",
       "      <td>37.85</td>\n",
       "      <td>52.0</td>\n",
       "      <td>1627.0</td>\n",
       "      <td>280.0</td>\n",
       "      <td>565.0</td>\n",
       "      <td>259.0</td>\n",
       "      <td>3.8462</td>\n",
       "      <td>342200.0</td>\n",
       "      <td>NEAR BAY</td>\n",
       "    </tr>\n",
       "  </tbody>\n",
       "</table>\n",
       "</div>"
      ],
      "text/plain": [
       "   longitude  latitude  housing_median_age  total_rooms  total_bedrooms  \\\n",
       "0    -122.23     37.88                41.0        880.0           129.0   \n",
       "1    -122.22     37.86                21.0       7099.0          1106.0   \n",
       "2    -122.24     37.85                52.0       1467.0           190.0   \n",
       "3    -122.25     37.85                52.0       1274.0           235.0   \n",
       "4    -122.25     37.85                52.0       1627.0           280.0   \n",
       "\n",
       "   population  households  median_income  median_house_value ocean_proximity  \n",
       "0       322.0       126.0         8.3252            452600.0        NEAR BAY  \n",
       "1      2401.0      1138.0         8.3014            358500.0        NEAR BAY  \n",
       "2       496.0       177.0         7.2574            352100.0        NEAR BAY  \n",
       "3       558.0       219.0         5.6431            341300.0        NEAR BAY  \n",
       "4       565.0       259.0         3.8462            342200.0        NEAR BAY  "
      ]
     },
     "execution_count": 2,
     "metadata": {},
     "output_type": "execute_result"
    }
   ],
   "source": [
    "raw_df = pd.read_csv('data/housing.csv')\n",
    "raw_df.head()"
   ]
  },
  {
   "cell_type": "code",
   "execution_count": 3,
   "id": "11da8e2b-24d6-41f8-9342-22705eaba79d",
   "metadata": {},
   "outputs": [
    {
     "data": {
      "image/png": "[encoded data removed]",
      "text/plain": [
       "<Figure size 432x288 with 1 Axes>"
      ]
     },
     "metadata": {
      "needs_background": "light"
     },
     "output_type": "display_data"
    }
   ],
   "source": [
    "plt.figure(figsize=(6, 4))\n",
    "\n",
    "sns.histplot(raw_df.median_house_value, bins=50, color='black', alpha=1)\n",
    "plt.ylabel('Frequency')\n",
    "plt.xlabel('House Value')\n",
    "plt.title('Distribution of House Value')\n",
    "\n",
    "plt.show()"
   ]
  },
  {
   "cell_type": "markdown",
   "id": "6850fad6-421b-480b-9507-140b8220e861",
   "metadata": {},
   "source": [
    "### Main Dataframe"
   ]
  },
  {
   "cell_type": "code",
   "execution_count": 4,
   "id": "e6f3129a-8704-4ab8-bd9f-1a50b46ac2a6",
   "metadata": {},
   "outputs": [
    {
     "data": {
      "text/html": [
       "<div>\n",
       "<style scoped>\n",
       "    .dataframe tbody tr th:only-of-type {\n",
       "        vertical-align: middle;\n",
       "    }\n",
       "\n",
       "    .dataframe tbody tr th {\n",
       "        vertical-align: top;\n",
       "    }\n",
       "\n",
       "    .dataframe thead th {\n",
       "        text-align: right;\n",
       "    }\n",
       "</style>\n",
       "<table border=\"1\" class=\"dataframe\">\n",
       "  <thead>\n",
       "    <tr style=\"text-align: right;\">\n",
       "      <th></th>\n",
       "      <th>latitude</th>\n",
       "      <th>longitude</th>\n",
       "      <th>housing_median_age</th>\n",
       "      <th>total_rooms</th>\n",
       "      <th>total_bedrooms</th>\n",
       "      <th>population</th>\n",
       "      <th>households</th>\n",
       "      <th>median_income</th>\n",
       "      <th>median_house_value</th>\n",
       "    </tr>\n",
       "  </thead>\n",
       "  <tbody>\n",
       "    <tr>\n",
       "      <th>0</th>\n",
       "      <td>37.88</td>\n",
       "      <td>-122.23</td>\n",
       "      <td>41.0</td>\n",
       "      <td>880.0</td>\n",
       "      <td>129.0</td>\n",
       "      <td>322.0</td>\n",
       "      <td>126.0</td>\n",
       "      <td>8.3252</td>\n",
       "      <td>452600.0</td>\n",
       "    </tr>\n",
       "    <tr>\n",
       "      <th>1</th>\n",
       "      <td>37.86</td>\n",
       "      <td>-122.22</td>\n",
       "      <td>21.0</td>\n",
       "      <td>7099.0</td>\n",
       "      <td>1106.0</td>\n",
       "      <td>2401.0</td>\n",
       "      <td>1138.0</td>\n",
       "      <td>8.3014</td>\n",
       "      <td>358500.0</td>\n",
       "    </tr>\n",
       "    <tr>\n",
       "      <th>2</th>\n",
       "      <td>37.85</td>\n",
       "      <td>-122.24</td>\n",
       "      <td>52.0</td>\n",
       "      <td>1467.0</td>\n",
       "      <td>190.0</td>\n",
       "      <td>496.0</td>\n",
       "      <td>177.0</td>\n",
       "      <td>7.2574</td>\n",
       "      <td>352100.0</td>\n",
       "    </tr>\n",
       "    <tr>\n",
       "      <th>3</th>\n",
       "      <td>37.85</td>\n",
       "      <td>-122.25</td>\n",
       "      <td>52.0</td>\n",
       "      <td>1274.0</td>\n",
       "      <td>235.0</td>\n",
       "      <td>558.0</td>\n",
       "      <td>219.0</td>\n",
       "      <td>5.6431</td>\n",
       "      <td>341300.0</td>\n",
       "    </tr>\n",
       "    <tr>\n",
       "      <th>4</th>\n",
       "      <td>37.85</td>\n",
       "      <td>-122.25</td>\n",
       "      <td>52.0</td>\n",
       "      <td>1627.0</td>\n",
       "      <td>280.0</td>\n",
       "      <td>565.0</td>\n",
       "      <td>259.0</td>\n",
       "      <td>3.8462</td>\n",
       "      <td>342200.0</td>\n",
       "    </tr>\n",
       "    <tr>\n",
       "      <th>...</th>\n",
       "      <td>...</td>\n",
       "      <td>...</td>\n",
       "      <td>...</td>\n",
       "      <td>...</td>\n",
       "      <td>...</td>\n",
       "      <td>...</td>\n",
       "      <td>...</td>\n",
       "      <td>...</td>\n",
       "      <td>...</td>\n",
       "    </tr>\n",
       "    <tr>\n",
       "      <th>20635</th>\n",
       "      <td>39.48</td>\n",
       "      <td>-121.09</td>\n",
       "      <td>25.0</td>\n",
       "      <td>1665.0</td>\n",
       "      <td>374.0</td>\n",
       "      <td>845.0</td>\n",
       "      <td>330.0</td>\n",
       "      <td>1.5603</td>\n",
       "      <td>78100.0</td>\n",
       "    </tr>\n",
       "    <tr>\n",
       "      <th>20636</th>\n",
       "      <td>39.49</td>\n",
       "      <td>-121.21</td>\n",
       "      <td>18.0</td>\n",
       "      <td>697.0</td>\n",
       "      <td>150.0</td>\n",
       "      <td>356.0</td>\n",
       "      <td>114.0</td>\n",
       "      <td>2.5568</td>\n",
       "      <td>77100.0</td>\n",
       "    </tr>\n",
       "    <tr>\n",
       "      <th>20637</th>\n",
       "      <td>39.43</td>\n",
       "      <td>-121.22</td>\n",
       "      <td>17.0</td>\n",
       "      <td>2254.0</td>\n",
       "      <td>485.0</td>\n",
       "      <td>1007.0</td>\n",
       "      <td>433.0</td>\n",
       "      <td>1.7000</td>\n",
       "      <td>92300.0</td>\n",
       "    </tr>\n",
       "    <tr>\n",
       "      <th>20638</th>\n",
       "      <td>39.43</td>\n",
       "      <td>-121.32</td>\n",
       "      <td>18.0</td>\n",
       "      <td>1860.0</td>\n",
       "      <td>409.0</td>\n",
       "      <td>741.0</td>\n",
       "      <td>349.0</td>\n",
       "      <td>1.8672</td>\n",
       "      <td>84700.0</td>\n",
       "    </tr>\n",
       "    <tr>\n",
       "      <th>20639</th>\n",
       "      <td>39.37</td>\n",
       "      <td>-121.24</td>\n",
       "      <td>16.0</td>\n",
       "      <td>2785.0</td>\n",
       "      <td>616.0</td>\n",
       "      <td>1387.0</td>\n",
       "      <td>530.0</td>\n",
       "      <td>2.3886</td>\n",
       "      <td>89400.0</td>\n",
       "    </tr>\n",
       "  </tbody>\n",
       "</table>\n",
       "<p>20640 rows × 9 columns</p>\n",
       "</div>"
      ],
      "text/plain": [
       "       latitude  longitude  housing_median_age  total_rooms  total_bedrooms  \\\n",
       "0         37.88    -122.23                41.0        880.0           129.0   \n",
       "1         37.86    -122.22                21.0       7099.0          1106.0   \n",
       "2         37.85    -122.24                52.0       1467.0           190.0   \n",
       "3         37.85    -122.25                52.0       1274.0           235.0   \n",
       "4         37.85    -122.25                52.0       1627.0           280.0   \n",
       "...         ...        ...                 ...          ...             ...   \n",
       "20635     39.48    -121.09                25.0       1665.0           374.0   \n",
       "20636     39.49    -121.21                18.0        697.0           150.0   \n",
       "20637     39.43    -121.22                17.0       2254.0           485.0   \n",
       "20638     39.43    -121.32                18.0       1860.0           409.0   \n",
       "20639     39.37    -121.24                16.0       2785.0           616.0   \n",
       "\n",
       "       population  households  median_income  median_house_value  \n",
       "0           322.0       126.0         8.3252            452600.0  \n",
       "1          2401.0      1138.0         8.3014            358500.0  \n",
       "2           496.0       177.0         7.2574            352100.0  \n",
       "3           558.0       219.0         5.6431            341300.0  \n",
       "4           565.0       259.0         3.8462            342200.0  \n",
       "...           ...         ...            ...                 ...  \n",
       "20635       845.0       330.0         1.5603             78100.0  \n",
       "20636       356.0       114.0         2.5568             77100.0  \n",
       "20637      1007.0       433.0         1.7000             92300.0  \n",
       "20638       741.0       349.0         1.8672             84700.0  \n",
       "20639      1387.0       530.0         2.3886             89400.0  \n",
       "\n",
       "[20640 rows x 9 columns]"
      ]
     },
     "execution_count": 4,
     "metadata": {},
     "output_type": "execute_result"
    }
   ],
   "source": [
    "feats = ['latitude', 'longitude', 'housing_median_age', 'total_rooms', 'total_bedrooms', 'population', 'households', 'median_income', 'median_house_value']\n",
    "df = raw_df[feats]\n",
    "df"
   ]
  },
  {
   "cell_type": "markdown",
   "id": "1d2ec8e7-b93c-4b65-a060-afa32f84328d",
   "metadata": {},
   "source": [
    "### Question 1\n",
    "#### Find a feature with missing values. How many missing values does it have?"
   ]
  },
  {
   "cell_type": "code",
   "execution_count": 5,
   "id": "9edb4276-4520-4ac1-b2b5-8b9b82bb8ed7",
   "metadata": {},
   "outputs": [
    {
     "data": {
      "text/plain": [
       "latitude                0\n",
       "longitude               0\n",
       "housing_median_age      0\n",
       "total_rooms             0\n",
       "total_bedrooms        207\n",
       "population              0\n",
       "households              0\n",
       "median_income           0\n",
       "median_house_value      0\n",
       "dtype: int64"
      ]
     },
     "execution_count": 5,
     "metadata": {},
     "output_type": "execute_result"
    }
   ],
   "source": [
    "# Total bedrooms with 207 missing values\n",
    "df.isnull().sum()"
   ]
  },
  {
   "cell_type": "markdown",
   "id": "8c728eb7-ebe1-40ea-b026-1df702e12bae",
   "metadata": {},
   "source": [
    "### Question 2\n",
    "\n",
    "#### What's the median (50% percentile) for variable 'population'?"
   ]
  },
  {
   "cell_type": "code",
   "execution_count": 6,
   "id": "3a2e2df1-e68e-4d10-b01a-59c4a6286e02",
   "metadata": {},
   "outputs": [
    {
     "data": {
      "text/plain": [
       "1166.0"
      ]
     },
     "execution_count": 6,
     "metadata": {},
     "output_type": "execute_result"
    }
   ],
   "source": [
    "# Median (also get using 'df.population.quantile(0.5)') is 1166.0\n",
    "df.population.median()"
   ]
  },
  {
   "cell_type": "code",
   "execution_count": 7,
   "id": "a34ad4c3-a082-4a56-857a-1128dcf546e1",
   "metadata": {},
   "outputs": [],
   "source": [
    "def split_data(df: pd.DataFrame, dist: list=[.6, .2, .2], seed: int=42) -> (pd.DataFrame, pd.DataFrame, pd.DataFrame):\n",
    "    total = int(len(df))\n",
    "    n_val = int(total * dist[1])\n",
    "    n_test = int(total * dist[2])\n",
    "    n_train = int(total - (n_val + n_test))\n",
    "    idx = np.arange(total)\n",
    "    np.random.seed(seed)\n",
    "    np.random.shuffle(idx)\n",
    "    train = df.iloc[idx[:n_train]].copy()\n",
    "    val = df.iloc[idx[n_train:n_train + n_val]].copy()\n",
    "    test = df.iloc[idx[n_train + n_val:]].copy()\n",
    "    return train, val, test\n",
    "\n",
    "def prepare_X(df: pd.DataFrame, fillWith:float=0.0) -> [[np.float64]]:\n",
    "    return df.fillna(fillWith).values\n",
    "\n",
    "\n",
    "def train_linear_regression(X: [[np.float64]], y: [np.float64], r:float=0.0) -> (np.float64, [np.float64]):\n",
    "    ones = np.ones(X.shape[0])\n",
    "    X = np.column_stack([ones, X])\n",
    "    XTX = X.T.dot(X)\n",
    "    reg = r * np.eye(XTX.shape[0])\n",
    "    XTX = XTX + reg\n",
    "    XTX_inv = np.linalg.inv(XTX)\n",
    "    w = XTX_inv.dot(X.T).dot(y)\n",
    "    return w[0], w[1:]\n",
    "\n",
    "def rmse(y, y_pred) -> np.float64:\n",
    "    error = y_pred - y\n",
    "    mse = (error ** 2).mean()\n",
    "    return np.sqrt(mse)"
   ]
  },
  {
   "cell_type": "code",
   "execution_count": 8,
   "id": "55fd01d7-8dd9-41d1-85d9-5e64263523db",
   "metadata": {},
   "outputs": [
    {
     "name": "stdout",
     "output_type": "stream",
     "text": [
      "Raw DF splitted into 12384 training, 4128 validation and 4128 testing tuples.\n"
     ]
    }
   ],
   "source": [
    "df_train, df_val, df_tst = split_data(raw_df[feats])\n",
    "print(f\"Raw DF splitted into {len(df_train)} training, {len(df_val)} validation and {len(df_tst)} testing tuples.\")\n",
    "\n",
    "# y Original Data, i.e. no transformation\n",
    "y_tro = df_train.median_house_value.values\n",
    "y_vlo = df_val.median_house_value.values\n",
    "y_tso = df_tst.median_house_value.values\n",
    "\n",
    "y_train = np.log1p(df_train.median_house_value.values)\n",
    "y_val = np.log1p(df_val.median_house_value.values)\n",
    "y_tst = np.log1p(df_tst.median_house_value.values)\n",
    "\n",
    "df_train.drop(axis=1, columns='median_house_value', inplace=True)\n",
    "df_val.drop(axis=1, columns='median_house_value', inplace=True)\n",
    "df_tst.drop(axis=1, columns='median_house_value', inplace=True)"
   ]
  },
  {
   "cell_type": "markdown",
   "id": "047e74b8-8d9d-48d4-9858-e4c8ca3656b6",
   "metadata": {},
   "source": [
    "## Question 3\n",
    "#### Which option gives better RMSE?"
   ]
  },
  {
   "cell_type": "markdown",
   "id": "97c312e9-5221-4fe7-b640-da379438bbe0",
   "metadata": {},
   "source": [
    "*Fill Missing Values with Zero*"
   ]
  },
  {
   "cell_type": "code",
   "execution_count": 9,
   "id": "7dae0001-d6af-4545-9596-4623256ff014",
   "metadata": {
    "tags": []
   },
   "outputs": [
    {
     "name": "stdout",
     "output_type": "stream",
     "text": [
      "Model trained with NA filled with zeroes. Bias = -11.68697524180786 and Weigths = [-2.82087184e-01 -2.76255120e-01  2.91329621e-03 -8.64531514e-06\n",
      "  1.50811922e-04 -2.08205659e-04  5.69546573e-04  1.71308139e-01].\n",
      "Validating model when filling NA values with zero. RSME_zero: 0.329533036522801\n"
     ]
    }
   ],
   "source": [
    "Xt_zf = prepare_X(df_train) # Zero filled training dataset\n",
    "b, w = train_linear_regression(Xt_zf, y_train)\n",
    "print(f\"Model trained with NA filled with zeroes. Bias = {b} and Weigths = {w}.\")\n",
    "Xv_zf = prepare_X(df_val)\n",
    "y_pred_val_zf = b + Xv_zf.dot(w)\n",
    "rmse_zero = rmse(y_val, y_pred_val_zf)\n",
    "print(f\"Validating model when filling NA values with zero. RSME_zero: {rmse_zero}\")"
   ]
  },
  {
   "cell_type": "markdown",
   "id": "3ef852dd-b23b-4d63-a743-ceef60b451eb",
   "metadata": {},
   "source": [
    "*Fill Missing Values with Mean*"
   ]
  },
  {
   "cell_type": "code",
   "execution_count": 10,
   "id": "a83434e1-e7cb-4260-b0bd-3e91dc793825",
   "metadata": {
    "tags": []
   },
   "outputs": [
    {
     "name": "stdout",
     "output_type": "stream",
     "text": [
      "Model trained with NA filled with mean. Bias = -11.68697524180786 and Weigths = [-2.82087184e-01 -2.76255120e-01  2.91329621e-03 -8.64531514e-06\n",
      "  1.50811922e-04 -2.08205659e-04  5.69546573e-04  1.71308139e-01].\n",
      "Validating model when filling NA values with mean. RSME_mean: 0.329533036522801\n"
     ]
    }
   ],
   "source": [
    "Xt_mf = prepare_X(df_train, df_train.total_bedrooms.median()) # mean filled training dataset\n",
    "bm, wm = train_linear_regression(Xt_mf, y_train)\n",
    "print(f\"Model trained with NA filled with mean. Bias = {b} and Weigths = {w}.\")\n",
    "Xv_mf = prepare_X(df_val, df_train.total_bedrooms.median())\n",
    "y_pred_val_mf = b + Xv_mf.dot(w)\n",
    "rmse_mean = rmse(y_val, y_pred_val_mf)\n",
    "print(f\"Validating model when filling NA values with mean. RSME_mean: {rmse_mean}\")"
   ]
  },
  {
   "cell_type": "code",
   "execution_count": 11,
   "id": "4d77152f-71db-4074-9251-0c290e5d406b",
   "metadata": {},
   "outputs": [
    {
     "name": "stdout",
     "output_type": "stream",
     "text": [
      "Validating model\n",
      "=== Filling NAs with zero ===\n",
      "RMSE_zero = 0.329533036522801\n",
      "=== Filling NAs with mean ===\n",
      "RMSE_mean = 0.329533036522801\n"
     ]
    }
   ],
   "source": [
    "print(f\"Validating model\\n=== Filling NAs with zero ===\\nRMSE_zero = {rmse_zero}\\n=== Filling NAs with mean ===\\nRMSE_mean = {rmse_mean}\")"
   ]
  },
  {
   "cell_type": "markdown",
   "id": "f3bd3f85-39e3-41f5-93e4-1f829411fae3",
   "metadata": {},
   "source": [
    "### Question 4\n",
    "#### Which r gives the best RMSE?"
   ]
  },
  {
   "cell_type": "markdown",
   "id": "3f02dd01-4590-4c7a-ba9f-263a4925aa4f",
   "metadata": {},
   "source": [
    "### Check best regularization option"
   ]
  },
  {
   "cell_type": "code",
   "execution_count": 12,
   "id": "2fa960d2-b939-4068-ba8b-4200a5580ef9",
   "metadata": {},
   "outputs": [
    {
     "name": "stdout",
     "output_type": "stream",
     "text": [
      "Current Regularization Options is 0 with RMSE = 0.33\n",
      "Current Regularization Options is 1e-06 with RMSE = 0.33\n",
      "Current Regularization Options is 0.0001 with RMSE = 0.33\n",
      "Current Regularization Options is 0.001 with RMSE = 0.33\n",
      "Current Regularization Options is 0.01 with RMSE = 0.33\n",
      "Current Regularization Options is 0.1 with RMSE = 0.33\n",
      "Current Regularization Options is 1 with RMSE = 0.33\n",
      "Current Regularization Options is 5 with RMSE = 0.34\n",
      "Current Regularization Options is 10 with RMSE = 0.34\n"
     ]
    }
   ],
   "source": [
    "regs = [0, 0.000001, 0.0001, 0.001, 0.01, 0.1, 1, 5, 10]\n",
    "# Pick max value possible for rmse\n",
    "selected_rmse = np.finfo(np.float64).max\n",
    "selected_reg = -1\n",
    "for r in regs:\n",
    "    b, w = train_linear_regression(Xt_zf, y_train, r=r)\n",
    "    # Xv_zf is the validation dataset filled with zeroes. Done it earlier.\n",
    "    y_pred = b + Xv_zf.dot(w)\n",
    "    cur_rmse = round(rmse(y_val, y_pred), 2)\n",
    "    print(f\"Current Regularization Options is {r} with RMSE = {cur_rmse}\")\n",
    "    if cur_rmse < selected_rmse:\n",
    "        selected_reg = r\n",
    "        selected_rmse = cur_rmse"
   ]
  },
  {
   "cell_type": "code",
   "execution_count": 13,
   "id": "3c4632bd-661e-45d7-9815-022f4673810f",
   "metadata": {},
   "outputs": [
    {
     "name": "stdout",
     "output_type": "stream",
     "text": [
      "Best Regularization Options is 0 with RMSE = 0.33\n"
     ]
    }
   ],
   "source": [
    "print(f\"Best Regularization Options is {selected_reg} with RMSE = {selected_rmse}\")"
   ]
  },
  {
   "cell_type": "markdown",
   "id": "7a809033-4bd2-4e39-8320-62b3c1c38555",
   "metadata": {},
   "source": [
    "### Question 5\n",
    "#### What's the standard deviation of all the scores? To compute the standard deviation, use np.std."
   ]
  },
  {
   "cell_type": "code",
   "execution_count": 14,
   "id": "dc709d37-cb5b-424c-b4c2-ea2ca8d63605",
   "metadata": {},
   "outputs": [
    {
     "name": "stdout",
     "output_type": "stream",
     "text": [
      "All scores: [0.33884304805303206, 0.3362387255956623, 0.33209123188331613, 0.3405153609037787, 0.3389024066574298, 0.3434866725718732, 0.3451980953099157, 0.3395989927407544, 0.3466230873199129, 0.3365926124190427]\n",
      "Std deviation: 0.004\n"
     ]
    }
   ],
   "source": [
    "seeds = [0, 1, 2, 3, 4, 5, 6, 7, 8, 9]\n",
    "scores = []\n",
    "for s in seeds:\n",
    "    train, val, tst = split_data(raw_df[feats], seed=s)\n",
    "    # original 'y' value\n",
    "    y_tro = train.median_house_value.values\n",
    "    y_vlo = val.median_house_value.values\n",
    "    y_tso = tst.median_house_value.values\n",
    "\n",
    "    # transform target value\n",
    "    y_train = np.log1p(train.median_house_value.values)\n",
    "    y_val = np.log1p(val.median_house_value.values)\n",
    "    y_tst = np.log1p(tst.median_house_value.values)\n",
    "\n",
    "    # extract target value from datasets\n",
    "    train.drop(axis=1, columns='median_house_value', inplace=True)\n",
    "    val.drop(axis=1, columns='median_house_value', inplace=True)\n",
    "    tst.drop(axis=1, columns='median_house_value', inplace=True)\n",
    "  \n",
    "    X_train = prepare_X(train)\n",
    "    b, w = train_linear_regression(X_train, y_train) # model trained\n",
    "    X_val = prepare_X(val)\n",
    "    y_pred = b + X_val.dot(w)\n",
    "    score = rmse(y_val, y_pred)\n",
    "    scores.append(score)\n",
    "\n",
    "print(f\"All scores: {scores}\")\n",
    "print(f\"Std deviation: {round(np.std(scores), 3)}\")"
   ]
  },
  {
   "cell_type": "markdown",
   "id": "cd18cc4e-a16f-4577-9f3e-1946238488df",
   "metadata": {},
   "source": [
    "### Question 6\n",
    "#### What's the RMSE on the test dataset?"
   ]
  },
  {
   "cell_type": "code",
   "execution_count": 15,
   "id": "3fdf9bc1-b29f-4b28-914d-927c8e04cf94",
   "metadata": {},
   "outputs": [
    {
     "name": "stdout",
     "output_type": "stream",
     "text": [
      "Score after Full Training: 0.345\n"
     ]
    }
   ],
   "source": [
    "train, val, tst = split_data(raw_df[feats], seed=9)\n",
    "# original 'y' value\n",
    "y_tro = train.median_house_value.values\n",
    "y_vlo = val.median_house_value.values\n",
    "y_tso = tst.median_house_value.values\n",
    "\n",
    "# transform target value\n",
    "y_train = np.log1p(train.median_house_value.values)\n",
    "y_val = np.log1p(val.median_house_value.values)\n",
    "y_tst = np.log1p(tst.median_house_value.values)\n",
    "\n",
    "# extract target value from datasets\n",
    "train.drop(axis=1, columns='median_house_value', inplace=True)\n",
    "val.drop(axis=1, columns='median_house_value', inplace=True)\n",
    "tst.drop(axis=1, columns='median_house_value', inplace=True)\n",
    "\n",
    "#Combine Train and Validation for full training\n",
    "full_train = pd.concat([train, val])\n",
    "full_y = np.concatenate([y_train, y_val])\n",
    "\n",
    "X_train = prepare_X(full_train)\n",
    "b, w = train_linear_regression(X_train, full_y, r=0.001) # model trained\n",
    "X_tst = prepare_X(tst)\n",
    "y_pred = b + X_tst.dot(w)\n",
    "score = rmse(y_tst, y_pred)\n",
    "print(f\"Score after Full Training: {round(score,3)}\")\n"
   ]
  }
 ],
 "metadata": {
  "kernelspec": {
   "display_name": "Python3 - Python-env",
   "language": "python",
   "name": "ipython_python-env"
  },
  "language_info": {
   "codemirror_mode": {
    "name": "ipython",
    "version": 3
   },
   "file_extension": ".py",
   "mimetype": "text/x-python",
   "name": "python",
   "nbconvert_exporter": "python",
   "pygments_lexer": "ipython3",
   "version": "3.9.13"
  }
 },
 "nbformat": 4,
 "nbformat_minor": 5
}
